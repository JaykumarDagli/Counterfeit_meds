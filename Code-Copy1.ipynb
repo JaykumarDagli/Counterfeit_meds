{
 "cells": [
  {
   "cell_type": "code",
   "execution_count": 1,
   "metadata": {},
   "outputs": [],
   "source": [
    "import numpy as np\n",
    "import pandas as pd\n",
    "import seaborn as sns \n",
    "import matplotlib.pyplot as plt\n",
    "from sklearn.linear_model import LinearRegression\n",
    "from sklearn.model_selection import train_test_split\n",
    "from sklearn.metrics import mean_absolute_error as mae"
   ]
  },
  {
   "cell_type": "code",
   "execution_count": 2,
   "metadata": {},
   "outputs": [],
   "source": [
    "df_train=pd.read_csv('counterfeit_train.csv')\n",
    "df_test=pd.read_csv('counterfeit_test.csv')"
   ]
  },
  {
   "cell_type": "code",
   "execution_count": 3,
   "metadata": {},
   "outputs": [
    {
     "data": {
      "text/html": [
       "<div>\n",
       "<style scoped>\n",
       "    .dataframe tbody tr th:only-of-type {\n",
       "        vertical-align: middle;\n",
       "    }\n",
       "\n",
       "    .dataframe tbody tr th {\n",
       "        vertical-align: top;\n",
       "    }\n",
       "\n",
       "    .dataframe thead th {\n",
       "        text-align: right;\n",
       "    }\n",
       "</style>\n",
       "<table border=\"1\" class=\"dataframe\">\n",
       "  <thead>\n",
       "    <tr style=\"text-align: right;\">\n",
       "      <th></th>\n",
       "      <th>Medicine_ID</th>\n",
       "      <th>Counterfeit_Weight</th>\n",
       "      <th>DistArea_ID</th>\n",
       "      <th>Active_Since</th>\n",
       "      <th>Medicine_MRP</th>\n",
       "      <th>Medicine_Type</th>\n",
       "      <th>SidEffect_Level</th>\n",
       "      <th>Availability_rating</th>\n",
       "      <th>Area_Type</th>\n",
       "      <th>Area_City_Type</th>\n",
       "      <th>Area_dist_level</th>\n",
       "      <th>Counterfeit_Sales</th>\n",
       "    </tr>\n",
       "  </thead>\n",
       "  <tbody>\n",
       "    <tr>\n",
       "      <th>0</th>\n",
       "      <td>RRA15</td>\n",
       "      <td>13.100</td>\n",
       "      <td>Area046</td>\n",
       "      <td>1995</td>\n",
       "      <td>160.2366</td>\n",
       "      <td>Antimalarial</td>\n",
       "      <td>critical</td>\n",
       "      <td>0.070422</td>\n",
       "      <td>DownTown</td>\n",
       "      <td>Tier 1</td>\n",
       "      <td>Small</td>\n",
       "      <td>1775.5026</td>\n",
       "    </tr>\n",
       "    <tr>\n",
       "      <th>1</th>\n",
       "      <td>YVV26</td>\n",
       "      <td>NaN</td>\n",
       "      <td>Area027</td>\n",
       "      <td>1983</td>\n",
       "      <td>110.4384</td>\n",
       "      <td>Mstablizers</td>\n",
       "      <td>mild</td>\n",
       "      <td>0.013000</td>\n",
       "      <td>CityLimits</td>\n",
       "      <td>Tier 3</td>\n",
       "      <td>Medium</td>\n",
       "      <td>3069.1520</td>\n",
       "    </tr>\n",
       "    <tr>\n",
       "      <th>2</th>\n",
       "      <td>LJC15</td>\n",
       "      <td>9.025</td>\n",
       "      <td>Area046</td>\n",
       "      <td>1995</td>\n",
       "      <td>259.4092</td>\n",
       "      <td>Cardiac</td>\n",
       "      <td>mild</td>\n",
       "      <td>0.060783</td>\n",
       "      <td>DownTown</td>\n",
       "      <td>Tier 1</td>\n",
       "      <td>Small</td>\n",
       "      <td>2603.0920</td>\n",
       "    </tr>\n",
       "    <tr>\n",
       "      <th>3</th>\n",
       "      <td>GWC40</td>\n",
       "      <td>11.800</td>\n",
       "      <td>Area046</td>\n",
       "      <td>1995</td>\n",
       "      <td>99.9830</td>\n",
       "      <td>OralContraceptives</td>\n",
       "      <td>mild</td>\n",
       "      <td>0.065555</td>\n",
       "      <td>DownTown</td>\n",
       "      <td>Tier 1</td>\n",
       "      <td>Small</td>\n",
       "      <td>1101.7130</td>\n",
       "    </tr>\n",
       "    <tr>\n",
       "      <th>4</th>\n",
       "      <td>QMN13</td>\n",
       "      <td>NaN</td>\n",
       "      <td>Area019</td>\n",
       "      <td>1983</td>\n",
       "      <td>56.4402</td>\n",
       "      <td>Hreplacements</td>\n",
       "      <td>critical</td>\n",
       "      <td>0.248859</td>\n",
       "      <td>MidTownResidential</td>\n",
       "      <td>Tier 1</td>\n",
       "      <td>Small</td>\n",
       "      <td>158.9402</td>\n",
       "    </tr>\n",
       "  </tbody>\n",
       "</table>\n",
       "</div>"
      ],
      "text/plain": [
       "  Medicine_ID  Counterfeit_Weight DistArea_ID  Active_Since  Medicine_MRP  \\\n",
       "0       RRA15              13.100     Area046          1995      160.2366   \n",
       "1       YVV26                 NaN     Area027          1983      110.4384   \n",
       "2       LJC15               9.025     Area046          1995      259.4092   \n",
       "3       GWC40              11.800     Area046          1995       99.9830   \n",
       "4       QMN13                 NaN     Area019          1983       56.4402   \n",
       "\n",
       "        Medicine_Type SidEffect_Level  Availability_rating  \\\n",
       "0        Antimalarial        critical             0.070422   \n",
       "1         Mstablizers            mild             0.013000   \n",
       "2             Cardiac            mild             0.060783   \n",
       "3  OralContraceptives            mild             0.065555   \n",
       "4       Hreplacements        critical             0.248859   \n",
       "\n",
       "            Area_Type Area_City_Type Area_dist_level  Counterfeit_Sales  \n",
       "0            DownTown         Tier 1           Small          1775.5026  \n",
       "1          CityLimits         Tier 3          Medium          3069.1520  \n",
       "2            DownTown         Tier 1           Small          2603.0920  \n",
       "3            DownTown         Tier 1           Small          1101.7130  \n",
       "4  MidTownResidential         Tier 1           Small           158.9402  "
      ]
     },
     "execution_count": 3,
     "metadata": {},
     "output_type": "execute_result"
    }
   ],
   "source": [
    "df_train.head()"
   ]
  },
  {
   "cell_type": "code",
   "execution_count": 4,
   "metadata": {},
   "outputs": [
    {
     "data": {
      "text/plain": [
       "0       160.2366\n",
       "1       110.4384\n",
       "2       259.4092\n",
       "3        99.9830\n",
       "4        56.4402\n",
       "          ...   \n",
       "6813    204.1452\n",
       "6814    235.1088\n",
       "6815    193.6292\n",
       "6816    162.8682\n",
       "6817    177.5500\n",
       "Name: Medicine_MRP, Length: 6818, dtype: float64"
      ]
     },
     "execution_count": 4,
     "metadata": {},
     "output_type": "execute_result"
    }
   ],
   "source": [
    "df_train['Medicine_MRP']"
   ]
  },
  {
   "cell_type": "code",
   "execution_count": 5,
   "metadata": {},
   "outputs": [
    {
     "data": {
      "text/html": [
       "<div>\n",
       "<style scoped>\n",
       "    .dataframe tbody tr th:only-of-type {\n",
       "        vertical-align: middle;\n",
       "    }\n",
       "\n",
       "    .dataframe tbody tr th {\n",
       "        vertical-align: top;\n",
       "    }\n",
       "\n",
       "    .dataframe thead th {\n",
       "        text-align: right;\n",
       "    }\n",
       "</style>\n",
       "<table border=\"1\" class=\"dataframe\">\n",
       "  <thead>\n",
       "    <tr style=\"text-align: right;\">\n",
       "      <th></th>\n",
       "      <th>Medicine_ID</th>\n",
       "      <th>Counterfeit_Weight</th>\n",
       "      <th>DistArea_ID</th>\n",
       "      <th>Active_Since</th>\n",
       "      <th>Medicine_MRP</th>\n",
       "      <th>Medicine_Type</th>\n",
       "      <th>SidEffect_Level</th>\n",
       "      <th>Availability_rating</th>\n",
       "      <th>Area_Type</th>\n",
       "      <th>Area_City_Type</th>\n",
       "      <th>Area_dist_level</th>\n",
       "    </tr>\n",
       "  </thead>\n",
       "  <tbody>\n",
       "    <tr>\n",
       "      <th>0</th>\n",
       "      <td>HLZ81</td>\n",
       "      <td>NaN</td>\n",
       "      <td>Area027</td>\n",
       "      <td>1983</td>\n",
       "      <td>85.5328</td>\n",
       "      <td>Antibiotics</td>\n",
       "      <td>mild</td>\n",
       "      <td>0.112747</td>\n",
       "      <td>CityLimits</td>\n",
       "      <td>Tier 3</td>\n",
       "      <td>Medium</td>\n",
       "    </tr>\n",
       "    <tr>\n",
       "      <th>1</th>\n",
       "      <td>ECE94</td>\n",
       "      <td>13.45</td>\n",
       "      <td>Area045</td>\n",
       "      <td>2000</td>\n",
       "      <td>257.1460</td>\n",
       "      <td>OralContraceptives</td>\n",
       "      <td>mild</td>\n",
       "      <td>0.144446</td>\n",
       "      <td>DownTown</td>\n",
       "      <td>Tier 2</td>\n",
       "      <td>Unknown</td>\n",
       "    </tr>\n",
       "    <tr>\n",
       "      <th>2</th>\n",
       "      <td>SAD14</td>\n",
       "      <td>7.10</td>\n",
       "      <td>Area045</td>\n",
       "      <td>2000</td>\n",
       "      <td>98.1172</td>\n",
       "      <td>Antipyretics</td>\n",
       "      <td>mild</td>\n",
       "      <td>0.144221</td>\n",
       "      <td>DownTown</td>\n",
       "      <td>Tier 2</td>\n",
       "      <td>Unknown</td>\n",
       "    </tr>\n",
       "    <tr>\n",
       "      <th>3</th>\n",
       "      <td>EQV63</td>\n",
       "      <td>18.30</td>\n",
       "      <td>Area010</td>\n",
       "      <td>1996</td>\n",
       "      <td>135.3730</td>\n",
       "      <td>Tranquilizers</td>\n",
       "      <td>mild</td>\n",
       "      <td>0.100388</td>\n",
       "      <td>MidTownResidential</td>\n",
       "      <td>Tier 3</td>\n",
       "      <td>Unknown</td>\n",
       "    </tr>\n",
       "    <tr>\n",
       "      <th>4</th>\n",
       "      <td>AIR10</td>\n",
       "      <td>NaN</td>\n",
       "      <td>Area019</td>\n",
       "      <td>1983</td>\n",
       "      <td>112.8016</td>\n",
       "      <td>OralContraceptives</td>\n",
       "      <td>mild</td>\n",
       "      <td>0.022585</td>\n",
       "      <td>MidTownResidential</td>\n",
       "      <td>Tier 1</td>\n",
       "      <td>Small</td>\n",
       "    </tr>\n",
       "  </tbody>\n",
       "</table>\n",
       "</div>"
      ],
      "text/plain": [
       "  Medicine_ID  Counterfeit_Weight DistArea_ID  Active_Since  Medicine_MRP  \\\n",
       "0       HLZ81                 NaN     Area027          1983       85.5328   \n",
       "1       ECE94               13.45     Area045          2000      257.1460   \n",
       "2       SAD14                7.10     Area045          2000       98.1172   \n",
       "3       EQV63               18.30     Area010          1996      135.3730   \n",
       "4       AIR10                 NaN     Area019          1983      112.8016   \n",
       "\n",
       "        Medicine_Type SidEffect_Level  Availability_rating  \\\n",
       "0         Antibiotics            mild             0.112747   \n",
       "1  OralContraceptives            mild             0.144446   \n",
       "2        Antipyretics            mild             0.144221   \n",
       "3       Tranquilizers            mild             0.100388   \n",
       "4  OralContraceptives            mild             0.022585   \n",
       "\n",
       "            Area_Type Area_City_Type Area_dist_level  \n",
       "0          CityLimits         Tier 3          Medium  \n",
       "1            DownTown         Tier 2         Unknown  \n",
       "2            DownTown         Tier 2         Unknown  \n",
       "3  MidTownResidential         Tier 3         Unknown  \n",
       "4  MidTownResidential         Tier 1           Small  "
      ]
     },
     "execution_count": 5,
     "metadata": {},
     "output_type": "execute_result"
    }
   ],
   "source": [
    "df_test.head()"
   ]
  },
  {
   "cell_type": "markdown",
   "metadata": {},
   "source": [
    "# Data Cleaning "
   ]
  },
  {
   "cell_type": "code",
   "execution_count": 6,
   "metadata": {},
   "outputs": [
    {
     "name": "stdout",
     "output_type": "stream",
     "text": [
      "Medicine_ID : 1557\n",
      "DistArea_ID : 10\n",
      "Medicine_Type : 16\n",
      "SidEffect_Level : 2\n",
      "Area_Type : 4\n",
      "Area_City_Type : 3\n",
      "Area_dist_level : 4\n"
     ]
    }
   ],
   "source": [
    "#checking unique values in the columns\n",
    "for col in df_train.select_dtypes(['object']).columns:\n",
    "    print(col, ':' , df_train[col].nunique())"
   ]
  },
  {
   "cell_type": "markdown",
   "metadata": {},
   "source": [
    "Notes:\n",
    "\n",
    "     0   Medicine_ID => Drop\n",
    "     1   Counterfeit_Weight => Update to remove NaN\n",
    "     2   DistArea_ID => convert to dummies [10 unique values]\n",
    "     3   Active_Since => convert to dummies [9 unique values]\n",
    "     4   Medicine_MRP => Drop\n",
    "     5   Medicine_Type => convert to dummies [16 unique values]\n",
    "     6   SidEffect_Level => convert to dummies [2 unique values]\n",
    "     7   Availability_rating => Drop \n",
    "     8   Area_Type => convert to dummies [10 unique values]                \n",
    "     9   Area_City_Type => convert to dummies [3 unique values]                              \n",
    "     10  Area_dist_level=> convert to dummies [4 unique values]                "
   ]
  },
  {
   "cell_type": "code",
   "execution_count": 7,
   "metadata": {},
   "outputs": [
    {
     "data": {
      "text/plain": [
       "count    1408.000000\n",
       "mean       14.328604\n",
       "std         4.616129\n",
       "min         5.855000\n",
       "25%        10.300000\n",
       "50%        14.300000\n",
       "75%        18.300000\n",
       "max        22.650000\n",
       "Name: Counterfeit_Weight, dtype: float64"
      ]
     },
     "execution_count": 7,
     "metadata": {},
     "output_type": "execute_result"
    }
   ],
   "source": [
    "df_train['Counterfeit_Weight'].describe()\n",
    "df_test['Counterfeit_Weight'].describe()"
   ]
  },
  {
   "cell_type": "code",
   "execution_count": 8,
   "metadata": {},
   "outputs": [
    {
     "data": {
      "image/png": "[encoded data removed]",
      "text/plain": [
       "<Figure size 432x288 with 1 Axes>"
      ]
     },
     "metadata": {
      "needs_background": "light"
     },
     "output_type": "display_data"
    }
   ],
   "source": [
    "p1=sns.kdeplot(df_train['Counterfeit_Weight'])\n",
    "p1=sns.kdeplot(df_test['Counterfeit_Weight'])"
   ]
  },
  {
   "cell_type": "code",
   "execution_count": 9,
   "metadata": {},
   "outputs": [],
   "source": [
    "#filling missing values with median values \n",
    "\n",
    "df_train['Counterfeit_Weight'].fillna(13.80, inplace=True)\n",
    "df_test['Counterfeit_Weight'].fillna(14.30, inplace=True)"
   ]
  },
  {
   "cell_type": "code",
   "execution_count": 10,
   "metadata": {},
   "outputs": [
    {
     "data": {
      "image/png": "[encoded data removed]",
      "text/plain": [
       "<Figure size 432x288 with 1 Axes>"
      ]
     },
     "metadata": {
      "needs_background": "light"
     },
     "output_type": "display_data"
    }
   ],
   "source": [
    "p1=sns.kdeplot(df_train['Counterfeit_Weight'])\n",
    "p1=sns.kdeplot(df_test['Counterfeit_Weight'])"
   ]
  },
  {
   "cell_type": "code",
   "execution_count": 11,
   "metadata": {},
   "outputs": [
    {
     "name": "stdout",
     "output_type": "stream",
     "text": [
      "DistArea_ID\n",
      "Active_Since\n",
      "Medicine_Type\n",
      "SidEffect_Level\n",
      "Area_Type\n",
      "Area_City_Type\n",
      "Area_dist_level\n"
     ]
    }
   ],
   "source": [
    "conv_dummies = ['DistArea_ID', 'Active_Since', 'Medicine_Type', 'SidEffect_Level', 'Area_Type' ,'Area_City_Type', 'Area_dist_level']\n",
    "\n",
    "for col in conv_dummies:\n",
    "    dummy=pd.get_dummies(df_train[col],prefix=col,drop_first=True)\n",
    "    df_train=pd.concat([df_train,dummy],axis=1)\n",
    "    print(col)\n",
    "    del df_train[col]\n",
    "del dummy\n",
    "\n",
    "for col in conv_dummies:\n",
    "    dummy=pd.get_dummies(df_test[col],prefix=col,drop_first=True)\n",
    "    df_test=pd.concat([df_test,dummy],axis=1)\n",
    "    #print(col)\n",
    "    del df_test[col]\n",
    "del dummy"
   ]
  },
  {
   "cell_type": "code",
   "execution_count": 12,
   "metadata": {},
   "outputs": [],
   "source": [
    "# df_train.drop(['Medicine_MRP','Availability_rating'],1, inplace=True)\n",
    "# df_test.drop(['Medicine_MRP','Availability_rating'],1, inplace=True)"
   ]
  },
  {
   "cell_type": "markdown",
   "metadata": {},
   "source": [
    "# Modelling "
   ]
  },
  {
   "cell_type": "code",
   "execution_count": 13,
   "metadata": {},
   "outputs": [],
   "source": [
    "X=df_train.drop(['Medicine_ID', 'Counterfeit_Sales'],1)\n",
    "y=df_train['Counterfeit_Sales']\n",
    "\n",
    "X_train, X_test, y_train, y_test = train_test_split(X, y, test_size=0.2, random_state=2)\n"
   ]
  },
  {
   "cell_type": "markdown",
   "metadata": {},
   "source": [
    "## Extra trees"
   ]
  },
  {
   "cell_type": "code",
   "execution_count": 22,
   "metadata": {},
   "outputs": [
    {
     "name": "stdout",
     "output_type": "stream",
     "text": [
      "0.4957336969729358\n"
     ]
    }
   ],
   "source": [
    "from sklearn.ensemble import ExtraTreesRegressor\n",
    "\n",
    "et=ExtraTreesRegressor()\n",
    "\n",
    "et.fit(X_train, y_train)\n",
    "\n",
    "pred_et=et.predict(X_test)\n",
    "\n",
    "m=mae(y_test, pred_et)\n",
    "print(1-m/1660)"
   ]
  },
  {
   "cell_type": "code",
   "execution_count": 23,
   "metadata": {},
   "outputs": [
    {
     "name": "stdout",
     "output_type": "stream",
     "text": [
      "Fitting 5 folds for each of 100 candidates, totalling 500 fits\n"
     ]
    },
    {
     "name": "stderr",
     "output_type": "stream",
     "text": [
      "[Parallel(n_jobs=-1)]: Using backend LokyBackend with 4 concurrent workers.\n",
      "[Parallel(n_jobs=-1)]: Done  76 tasks      | elapsed:    6.5s\n",
      "[Parallel(n_jobs=-1)]: Done 376 tasks      | elapsed:   30.2s\n",
      "[Parallel(n_jobs=-1)]: Done 493 out of 500 | elapsed:   36.9s remaining:    0.4s\n",
      "[Parallel(n_jobs=-1)]: Done 500 out of 500 | elapsed:   37.0s finished\n"
     ]
    },
    {
     "name": "stdout",
     "output_type": "stream",
     "text": [
      "0.6077414511970513\n",
      "{'n_estimators': 50, 'min_samples_split': 15, 'min_samples_leaf': 1, 'max_leaf_nodes': 20, 'max_depth': 10}\n"
     ]
    }
   ],
   "source": [
    "param_dist = { 'n_estimators':[10,20,50,100],\n",
    "               'max_depth' : [3,5,10,50,None],\n",
    "               'min_samples_split':[2,5,10,15],\n",
    "               'min_samples_leaf':[1,5,10,15],\n",
    "                'max_leaf_nodes' :[5,7,10,16,20,30,45,50,70]                }\n",
    "\n",
    "et_ht=ExtraTreesRegressor()\n",
    "\n",
    "grid=RandomizedSearchCV(estimator=et_ht, param_distributions=param_dist, verbose=1,n_jobs=-1, n_iter=100)\n",
    "\n",
    "grid_result=grid.fit(X_train, y_train)\n",
    "\n",
    "print(grid_result.best_score_)\n",
    "\n",
    "print(grid_result.best_params_)\n"
   ]
  },
  {
   "cell_type": "code",
   "execution_count": 25,
   "metadata": {},
   "outputs": [
    {
     "name": "stdout",
     "output_type": "stream",
     "text": [
      "0.5425898732216726\n"
     ]
    }
   ],
   "source": [
    "et_best=ExtraTreesRegressor(n_estimators=50, min_samples_leaf=1, min_samples_split=15, max_leaf_nodes=20, max_depth=10)\n",
    "\n",
    "et_best.fit(X_train, y_train)\n",
    "\n",
    "pred_et_best = et_best.predict(X_test)\n",
    "\n",
    "\n",
    "m=mae(y_test, pred_et_best)\n",
    "print(1-m/1660)"
   ]
  },
  {
   "cell_type": "code",
   "execution_count": null,
   "metadata": {},
   "outputs": [],
   "source": []
  }
 ],
 "metadata": {
  "kernelspec": {
   "display_name": "Python 3",
   "language": "python",
   "name": "python3"
  },
  "language_info": {
   "codemirror_mode": {
    "name": "ipython",
    "version": 3
   },
   "file_extension": ".py",
   "mimetype": "text/x-python",
   "name": "python",
   "nbconvert_exporter": "python",
   "pygments_lexer": "ipython3",
   "version": "3.7.6"
  }
 },
 "nbformat": 4,
 "nbformat_minor": 4
}
