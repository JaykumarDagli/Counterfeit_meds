{
 "cells": [
  {
   "cell_type": "code",
   "execution_count": 60,
   "metadata": {},
   "outputs": [],
   "source": [
    "import numpy as np\n",
    "import pandas as pd\n",
    "import seaborn as sns \n",
    "import matplotlib.pyplot as plt\n",
    "from sklearn.linear_model import LinearRegression\n",
    "from sklearn.model_selection import train_test_split\n",
    "from sklearn.metrics import mean_absolute_error as mae"
   ]
  },
  {
   "cell_type": "code",
   "execution_count": 61,
   "metadata": {},
   "outputs": [],
   "source": [
    "df_train=pd.read_csv('C:/Users/Jay/Desktop/Python/Projects/P3/counterfeit_train.csv')\n",
    "df_test=pd.read_csv('C:/Users/Jay/Desktop/Python/Projects/P3/counterfeit_test.csv')"
   ]
  },
  {
   "cell_type": "code",
   "execution_count": 62,
   "metadata": {},
   "outputs": [
    {
     "data": {
      "text/html": [
       "<div>\n",
       "<style scoped>\n",
       "    .dataframe tbody tr th:only-of-type {\n",
       "        vertical-align: middle;\n",
       "    }\n",
       "\n",
       "    .dataframe tbody tr th {\n",
       "        vertical-align: top;\n",
       "    }\n",
       "\n",
       "    .dataframe thead th {\n",
       "        text-align: right;\n",
       "    }\n",
       "</style>\n",
       "<table border=\"1\" class=\"dataframe\">\n",
       "  <thead>\n",
       "    <tr style=\"text-align: right;\">\n",
       "      <th></th>\n",
       "      <th>Medicine_ID</th>\n",
       "      <th>Counterfeit_Weight</th>\n",
       "      <th>DistArea_ID</th>\n",
       "      <th>Active_Since</th>\n",
       "      <th>Medicine_MRP</th>\n",
       "      <th>Medicine_Type</th>\n",
       "      <th>SidEffect_Level</th>\n",
       "      <th>Availability_rating</th>\n",
       "      <th>Area_Type</th>\n",
       "      <th>Area_City_Type</th>\n",
       "      <th>Area_dist_level</th>\n",
       "      <th>Counterfeit_Sales</th>\n",
       "    </tr>\n",
       "  </thead>\n",
       "  <tbody>\n",
       "    <tr>\n",
       "      <th>0</th>\n",
       "      <td>RRA15</td>\n",
       "      <td>13.100</td>\n",
       "      <td>Area046</td>\n",
       "      <td>1995</td>\n",
       "      <td>160.2366</td>\n",
       "      <td>Antimalarial</td>\n",
       "      <td>critical</td>\n",
       "      <td>0.070422</td>\n",
       "      <td>DownTown</td>\n",
       "      <td>Tier 1</td>\n",
       "      <td>Small</td>\n",
       "      <td>1775.5026</td>\n",
       "    </tr>\n",
       "    <tr>\n",
       "      <th>1</th>\n",
       "      <td>YVV26</td>\n",
       "      <td>NaN</td>\n",
       "      <td>Area027</td>\n",
       "      <td>1983</td>\n",
       "      <td>110.4384</td>\n",
       "      <td>Mstablizers</td>\n",
       "      <td>mild</td>\n",
       "      <td>0.013000</td>\n",
       "      <td>CityLimits</td>\n",
       "      <td>Tier 3</td>\n",
       "      <td>Medium</td>\n",
       "      <td>3069.1520</td>\n",
       "    </tr>\n",
       "    <tr>\n",
       "      <th>2</th>\n",
       "      <td>LJC15</td>\n",
       "      <td>9.025</td>\n",
       "      <td>Area046</td>\n",
       "      <td>1995</td>\n",
       "      <td>259.4092</td>\n",
       "      <td>Cardiac</td>\n",
       "      <td>mild</td>\n",
       "      <td>0.060783</td>\n",
       "      <td>DownTown</td>\n",
       "      <td>Tier 1</td>\n",
       "      <td>Small</td>\n",
       "      <td>2603.0920</td>\n",
       "    </tr>\n",
       "    <tr>\n",
       "      <th>3</th>\n",
       "      <td>GWC40</td>\n",
       "      <td>11.800</td>\n",
       "      <td>Area046</td>\n",
       "      <td>1995</td>\n",
       "      <td>99.9830</td>\n",
       "      <td>OralContraceptives</td>\n",
       "      <td>mild</td>\n",
       "      <td>0.065555</td>\n",
       "      <td>DownTown</td>\n",
       "      <td>Tier 1</td>\n",
       "      <td>Small</td>\n",
       "      <td>1101.7130</td>\n",
       "    </tr>\n",
       "    <tr>\n",
       "      <th>4</th>\n",
       "      <td>QMN13</td>\n",
       "      <td>NaN</td>\n",
       "      <td>Area019</td>\n",
       "      <td>1983</td>\n",
       "      <td>56.4402</td>\n",
       "      <td>Hreplacements</td>\n",
       "      <td>critical</td>\n",
       "      <td>0.248859</td>\n",
       "      <td>MidTownResidential</td>\n",
       "      <td>Tier 1</td>\n",
       "      <td>Small</td>\n",
       "      <td>158.9402</td>\n",
       "    </tr>\n",
       "  </tbody>\n",
       "</table>\n",
       "</div>"
      ],
      "text/plain": [
       "  Medicine_ID  Counterfeit_Weight DistArea_ID  Active_Since  Medicine_MRP  \\\n",
       "0       RRA15              13.100     Area046          1995      160.2366   \n",
       "1       YVV26                 NaN     Area027          1983      110.4384   \n",
       "2       LJC15               9.025     Area046          1995      259.4092   \n",
       "3       GWC40              11.800     Area046          1995       99.9830   \n",
       "4       QMN13                 NaN     Area019          1983       56.4402   \n",
       "\n",
       "        Medicine_Type SidEffect_Level  Availability_rating  \\\n",
       "0        Antimalarial        critical             0.070422   \n",
       "1         Mstablizers            mild             0.013000   \n",
       "2             Cardiac            mild             0.060783   \n",
       "3  OralContraceptives            mild             0.065555   \n",
       "4       Hreplacements        critical             0.248859   \n",
       "\n",
       "            Area_Type Area_City_Type Area_dist_level  Counterfeit_Sales  \n",
       "0            DownTown         Tier 1           Small          1775.5026  \n",
       "1          CityLimits         Tier 3          Medium          3069.1520  \n",
       "2            DownTown         Tier 1           Small          2603.0920  \n",
       "3            DownTown         Tier 1           Small          1101.7130  \n",
       "4  MidTownResidential         Tier 1           Small           158.9402  "
      ]
     },
     "execution_count": 62,
     "metadata": {},
     "output_type": "execute_result"
    }
   ],
   "source": [
    "df_train.head()"
   ]
  },
  {
   "cell_type": "code",
   "execution_count": 63,
   "metadata": {},
   "outputs": [
    {
     "data": {
      "text/plain": [
       "0       160.2366\n",
       "1       110.4384\n",
       "2       259.4092\n",
       "3        99.9830\n",
       "4        56.4402\n",
       "          ...   \n",
       "6813    204.1452\n",
       "6814    235.1088\n",
       "6815    193.6292\n",
       "6816    162.8682\n",
       "6817    177.5500\n",
       "Name: Medicine_MRP, Length: 6818, dtype: float64"
      ]
     },
     "execution_count": 63,
     "metadata": {},
     "output_type": "execute_result"
    }
   ],
   "source": [
    "df_train['Medicine_MRP']"
   ]
  },
  {
   "cell_type": "code",
   "execution_count": 64,
   "metadata": {},
   "outputs": [
    {
     "data": {
      "text/html": [
       "<div>\n",
       "<style scoped>\n",
       "    .dataframe tbody tr th:only-of-type {\n",
       "        vertical-align: middle;\n",
       "    }\n",
       "\n",
       "    .dataframe tbody tr th {\n",
       "        vertical-align: top;\n",
       "    }\n",
       "\n",
       "    .dataframe thead th {\n",
       "        text-align: right;\n",
       "    }\n",
       "</style>\n",
       "<table border=\"1\" class=\"dataframe\">\n",
       "  <thead>\n",
       "    <tr style=\"text-align: right;\">\n",
       "      <th></th>\n",
       "      <th>Medicine_ID</th>\n",
       "      <th>Counterfeit_Weight</th>\n",
       "      <th>DistArea_ID</th>\n",
       "      <th>Active_Since</th>\n",
       "      <th>Medicine_MRP</th>\n",
       "      <th>Medicine_Type</th>\n",
       "      <th>SidEffect_Level</th>\n",
       "      <th>Availability_rating</th>\n",
       "      <th>Area_Type</th>\n",
       "      <th>Area_City_Type</th>\n",
       "      <th>Area_dist_level</th>\n",
       "    </tr>\n",
       "  </thead>\n",
       "  <tbody>\n",
       "    <tr>\n",
       "      <th>0</th>\n",
       "      <td>HLZ81</td>\n",
       "      <td>NaN</td>\n",
       "      <td>Area027</td>\n",
       "      <td>1983</td>\n",
       "      <td>85.5328</td>\n",
       "      <td>Antibiotics</td>\n",
       "      <td>mild</td>\n",
       "      <td>0.112747</td>\n",
       "      <td>CityLimits</td>\n",
       "      <td>Tier 3</td>\n",
       "      <td>Medium</td>\n",
       "    </tr>\n",
       "    <tr>\n",
       "      <th>1</th>\n",
       "      <td>ECE94</td>\n",
       "      <td>13.45</td>\n",
       "      <td>Area045</td>\n",
       "      <td>2000</td>\n",
       "      <td>257.1460</td>\n",
       "      <td>OralContraceptives</td>\n",
       "      <td>mild</td>\n",
       "      <td>0.144446</td>\n",
       "      <td>DownTown</td>\n",
       "      <td>Tier 2</td>\n",
       "      <td>Unknown</td>\n",
       "    </tr>\n",
       "    <tr>\n",
       "      <th>2</th>\n",
       "      <td>SAD14</td>\n",
       "      <td>7.10</td>\n",
       "      <td>Area045</td>\n",
       "      <td>2000</td>\n",
       "      <td>98.1172</td>\n",
       "      <td>Antipyretics</td>\n",
       "      <td>mild</td>\n",
       "      <td>0.144221</td>\n",
       "      <td>DownTown</td>\n",
       "      <td>Tier 2</td>\n",
       "      <td>Unknown</td>\n",
       "    </tr>\n",
       "    <tr>\n",
       "      <th>3</th>\n",
       "      <td>EQV63</td>\n",
       "      <td>18.30</td>\n",
       "      <td>Area010</td>\n",
       "      <td>1996</td>\n",
       "      <td>135.3730</td>\n",
       "      <td>Tranquilizers</td>\n",
       "      <td>mild</td>\n",
       "      <td>0.100388</td>\n",
       "      <td>MidTownResidential</td>\n",
       "      <td>Tier 3</td>\n",
       "      <td>Unknown</td>\n",
       "    </tr>\n",
       "    <tr>\n",
       "      <th>4</th>\n",
       "      <td>AIR10</td>\n",
       "      <td>NaN</td>\n",
       "      <td>Area019</td>\n",
       "      <td>1983</td>\n",
       "      <td>112.8016</td>\n",
       "      <td>OralContraceptives</td>\n",
       "      <td>mild</td>\n",
       "      <td>0.022585</td>\n",
       "      <td>MidTownResidential</td>\n",
       "      <td>Tier 1</td>\n",
       "      <td>Small</td>\n",
       "    </tr>\n",
       "  </tbody>\n",
       "</table>\n",
       "</div>"
      ],
      "text/plain": [
       "  Medicine_ID  Counterfeit_Weight DistArea_ID  Active_Since  Medicine_MRP  \\\n",
       "0       HLZ81                 NaN     Area027          1983       85.5328   \n",
       "1       ECE94               13.45     Area045          2000      257.1460   \n",
       "2       SAD14                7.10     Area045          2000       98.1172   \n",
       "3       EQV63               18.30     Area010          1996      135.3730   \n",
       "4       AIR10                 NaN     Area019          1983      112.8016   \n",
       "\n",
       "        Medicine_Type SidEffect_Level  Availability_rating  \\\n",
       "0         Antibiotics            mild             0.112747   \n",
       "1  OralContraceptives            mild             0.144446   \n",
       "2        Antipyretics            mild             0.144221   \n",
       "3       Tranquilizers            mild             0.100388   \n",
       "4  OralContraceptives            mild             0.022585   \n",
       "\n",
       "            Area_Type Area_City_Type Area_dist_level  \n",
       "0          CityLimits         Tier 3          Medium  \n",
       "1            DownTown         Tier 2         Unknown  \n",
       "2            DownTown         Tier 2         Unknown  \n",
       "3  MidTownResidential         Tier 3         Unknown  \n",
       "4  MidTownResidential         Tier 1           Small  "
      ]
     },
     "execution_count": 64,
     "metadata": {},
     "output_type": "execute_result"
    }
   ],
   "source": [
    "df_test.head()"
   ]
  },
  {
   "cell_type": "markdown",
   "metadata": {},
   "source": [
    "# Data Cleaning "
   ]
  },
  {
   "cell_type": "code",
   "execution_count": 65,
   "metadata": {},
   "outputs": [
    {
     "name": "stdout",
     "output_type": "stream",
     "text": [
      "<class 'pandas.core.frame.DataFrame'>\n",
      "RangeIndex: 6818 entries, 0 to 6817\n",
      "Data columns (total 12 columns):\n",
      " #   Column               Non-Null Count  Dtype  \n",
      "---  ------               --------------  -----  \n",
      " 0   Medicine_ID          6818 non-null   object \n",
      " 1   Counterfeit_Weight   5652 non-null   float64\n",
      " 2   DistArea_ID          6818 non-null   object \n",
      " 3   Active_Since         6818 non-null   int64  \n",
      " 4   Medicine_MRP         6818 non-null   float64\n",
      " 5   Medicine_Type        6818 non-null   object \n",
      " 6   SidEffect_Level      6818 non-null   object \n",
      " 7   Availability_rating  6818 non-null   float64\n",
      " 8   Area_Type            6818 non-null   object \n",
      " 9   Area_City_Type       6818 non-null   object \n",
      " 10  Area_dist_level      6818 non-null   object \n",
      " 11  Counterfeit_Sales    6818 non-null   float64\n",
      "dtypes: float64(4), int64(1), object(7)\n",
      "memory usage: 639.3+ KB\n",
      "<class 'pandas.core.frame.DataFrame'>\n",
      "RangeIndex: 1705 entries, 0 to 1704\n",
      "Data columns (total 11 columns):\n",
      " #   Column               Non-Null Count  Dtype  \n",
      "---  ------               --------------  -----  \n",
      " 0   Medicine_ID          1705 non-null   object \n",
      " 1   Counterfeit_Weight   1408 non-null   float64\n",
      " 2   DistArea_ID          1705 non-null   object \n",
      " 3   Active_Since         1705 non-null   int64  \n",
      " 4   Medicine_MRP         1705 non-null   float64\n",
      " 5   Medicine_Type        1705 non-null   object \n",
      " 6   SidEffect_Level      1705 non-null   object \n",
      " 7   Availability_rating  1705 non-null   float64\n",
      " 8   Area_Type            1705 non-null   object \n",
      " 9   Area_City_Type       1705 non-null   object \n",
      " 10  Area_dist_level      1705 non-null   object \n",
      "dtypes: float64(3), int64(1), object(7)\n",
      "memory usage: 146.6+ KB\n",
      "DistArea_ID\n",
      "Active_Since\n",
      "Medicine_Type\n",
      "SidEffect_Level\n",
      "Area_Type\n",
      "Area_City_Type\n",
      "Area_dist_level\n"
     ]
    }
   ],
   "source": [
    "df_train.info()\n",
    "\n",
    "df_test.info()\n",
    "\n",
    "#Weight has nulls in both test and train\n",
    "df_train['Counterfeit_Weight'].isnull().sum()\n",
    "\n",
    "df_train['Counterfeit_Weight'].describe()\n",
    "\n",
    "df_test['Counterfeit_Weight'].describe()\n",
    "\n",
    "#filling missing values with median values \n",
    "df_train['Counterfeit_Weight']=df_train['Counterfeit_Weight'].fillna(13.80)\n",
    "df_test['Counterfeit_Weight']=df_test['Counterfeit_Weight'].fillna(14.30)\n",
    "\n",
    "#DistArea_ID, Active_Since, Medicine_Type, SidEffect_Level, Area_Type ,Area_City_Type, Area_dist_level\n",
    "#converting to dummies \n",
    "\n",
    "#product, submitted via, company response, timely response\n",
    "conv_dummies = ['DistArea_ID', 'Active_Since', 'Medicine_Type', 'SidEffect_Level', 'Area_Type' ,'Area_City_Type', 'Area_dist_level']\n",
    "\n",
    "for col in conv_dummies:\n",
    "    dummy=pd.get_dummies(df_train[col],prefix=col,drop_first=True)\n",
    "    df_train=pd.concat([df_train,dummy],axis=1)\n",
    "    print(col)\n",
    "    del df_train[col]\n",
    "del dummy\n",
    "\n",
    "for col in conv_dummies:\n",
    "    dummy=pd.get_dummies(df_test[col],prefix=col,drop_first=True)\n",
    "    df_test=pd.concat([df_test,dummy],axis=1)\n",
    "    #print(col)\n",
    "    del df_test[col]\n",
    "del dummy"
   ]
  },
  {
   "cell_type": "code",
   "execution_count": 66,
   "metadata": {},
   "outputs": [],
   "source": [
    "#df_train.drop(['Medicine_MRP','Availability_rating'],1, inplace=True)"
   ]
  },
  {
   "cell_type": "markdown",
   "metadata": {},
   "source": [
    "# Data Viz"
   ]
  },
  {
   "cell_type": "code",
   "execution_count": 67,
   "metadata": {},
   "outputs": [
    {
     "data": {
      "text/html": [
       "<div>\n",
       "<style scoped>\n",
       "    .dataframe tbody tr th:only-of-type {\n",
       "        vertical-align: middle;\n",
       "    }\n",
       "\n",
       "    .dataframe tbody tr th {\n",
       "        vertical-align: top;\n",
       "    }\n",
       "\n",
       "    .dataframe thead th {\n",
       "        text-align: right;\n",
       "    }\n",
       "</style>\n",
       "<table border=\"1\" class=\"dataframe\">\n",
       "  <thead>\n",
       "    <tr style=\"text-align: right;\">\n",
       "      <th></th>\n",
       "      <th>Medicine_ID</th>\n",
       "      <th>Counterfeit_Weight</th>\n",
       "      <th>Medicine_MRP</th>\n",
       "      <th>Availability_rating</th>\n",
       "      <th>Counterfeit_Sales</th>\n",
       "      <th>DistArea_ID_Area013</th>\n",
       "      <th>DistArea_ID_Area017</th>\n",
       "      <th>DistArea_ID_Area018</th>\n",
       "      <th>DistArea_ID_Area019</th>\n",
       "      <th>DistArea_ID_Area027</th>\n",
       "      <th>...</th>\n",
       "      <th>Medicine_Type_Tranquilizers</th>\n",
       "      <th>SidEffect_Level_mild</th>\n",
       "      <th>Area_Type_DownTown</th>\n",
       "      <th>Area_Type_Industrial</th>\n",
       "      <th>Area_Type_MidTownResidential</th>\n",
       "      <th>Area_City_Type_Tier 2</th>\n",
       "      <th>Area_City_Type_Tier 3</th>\n",
       "      <th>Area_dist_level_Medium</th>\n",
       "      <th>Area_dist_level_Small</th>\n",
       "      <th>Area_dist_level_Unknown</th>\n",
       "    </tr>\n",
       "  </thead>\n",
       "  <tbody>\n",
       "    <tr>\n",
       "      <th>0</th>\n",
       "      <td>RRA15</td>\n",
       "      <td>13.100</td>\n",
       "      <td>160.2366</td>\n",
       "      <td>0.070422</td>\n",
       "      <td>1775.5026</td>\n",
       "      <td>0</td>\n",
       "      <td>0</td>\n",
       "      <td>0</td>\n",
       "      <td>0</td>\n",
       "      <td>0</td>\n",
       "      <td>...</td>\n",
       "      <td>0</td>\n",
       "      <td>0</td>\n",
       "      <td>1</td>\n",
       "      <td>0</td>\n",
       "      <td>0</td>\n",
       "      <td>0</td>\n",
       "      <td>0</td>\n",
       "      <td>0</td>\n",
       "      <td>1</td>\n",
       "      <td>0</td>\n",
       "    </tr>\n",
       "    <tr>\n",
       "      <th>1</th>\n",
       "      <td>YVV26</td>\n",
       "      <td>13.800</td>\n",
       "      <td>110.4384</td>\n",
       "      <td>0.013000</td>\n",
       "      <td>3069.1520</td>\n",
       "      <td>0</td>\n",
       "      <td>0</td>\n",
       "      <td>0</td>\n",
       "      <td>0</td>\n",
       "      <td>1</td>\n",
       "      <td>...</td>\n",
       "      <td>0</td>\n",
       "      <td>1</td>\n",
       "      <td>0</td>\n",
       "      <td>0</td>\n",
       "      <td>0</td>\n",
       "      <td>0</td>\n",
       "      <td>1</td>\n",
       "      <td>1</td>\n",
       "      <td>0</td>\n",
       "      <td>0</td>\n",
       "    </tr>\n",
       "    <tr>\n",
       "      <th>2</th>\n",
       "      <td>LJC15</td>\n",
       "      <td>9.025</td>\n",
       "      <td>259.4092</td>\n",
       "      <td>0.060783</td>\n",
       "      <td>2603.0920</td>\n",
       "      <td>0</td>\n",
       "      <td>0</td>\n",
       "      <td>0</td>\n",
       "      <td>0</td>\n",
       "      <td>0</td>\n",
       "      <td>...</td>\n",
       "      <td>0</td>\n",
       "      <td>1</td>\n",
       "      <td>1</td>\n",
       "      <td>0</td>\n",
       "      <td>0</td>\n",
       "      <td>0</td>\n",
       "      <td>0</td>\n",
       "      <td>0</td>\n",
       "      <td>1</td>\n",
       "      <td>0</td>\n",
       "    </tr>\n",
       "    <tr>\n",
       "      <th>3</th>\n",
       "      <td>GWC40</td>\n",
       "      <td>11.800</td>\n",
       "      <td>99.9830</td>\n",
       "      <td>0.065555</td>\n",
       "      <td>1101.7130</td>\n",
       "      <td>0</td>\n",
       "      <td>0</td>\n",
       "      <td>0</td>\n",
       "      <td>0</td>\n",
       "      <td>0</td>\n",
       "      <td>...</td>\n",
       "      <td>0</td>\n",
       "      <td>1</td>\n",
       "      <td>1</td>\n",
       "      <td>0</td>\n",
       "      <td>0</td>\n",
       "      <td>0</td>\n",
       "      <td>0</td>\n",
       "      <td>0</td>\n",
       "      <td>1</td>\n",
       "      <td>0</td>\n",
       "    </tr>\n",
       "    <tr>\n",
       "      <th>4</th>\n",
       "      <td>QMN13</td>\n",
       "      <td>13.800</td>\n",
       "      <td>56.4402</td>\n",
       "      <td>0.248859</td>\n",
       "      <td>158.9402</td>\n",
       "      <td>0</td>\n",
       "      <td>0</td>\n",
       "      <td>0</td>\n",
       "      <td>1</td>\n",
       "      <td>0</td>\n",
       "      <td>...</td>\n",
       "      <td>0</td>\n",
       "      <td>0</td>\n",
       "      <td>0</td>\n",
       "      <td>0</td>\n",
       "      <td>1</td>\n",
       "      <td>0</td>\n",
       "      <td>0</td>\n",
       "      <td>0</td>\n",
       "      <td>1</td>\n",
       "      <td>0</td>\n",
       "    </tr>\n",
       "  </tbody>\n",
       "</table>\n",
       "<p>5 rows × 46 columns</p>\n",
       "</div>"
      ],
      "text/plain": [
       "  Medicine_ID  Counterfeit_Weight  Medicine_MRP  Availability_rating  \\\n",
       "0       RRA15              13.100      160.2366             0.070422   \n",
       "1       YVV26              13.800      110.4384             0.013000   \n",
       "2       LJC15               9.025      259.4092             0.060783   \n",
       "3       GWC40              11.800       99.9830             0.065555   \n",
       "4       QMN13              13.800       56.4402             0.248859   \n",
       "\n",
       "   Counterfeit_Sales  DistArea_ID_Area013  DistArea_ID_Area017  \\\n",
       "0          1775.5026                    0                    0   \n",
       "1          3069.1520                    0                    0   \n",
       "2          2603.0920                    0                    0   \n",
       "3          1101.7130                    0                    0   \n",
       "4           158.9402                    0                    0   \n",
       "\n",
       "   DistArea_ID_Area018  DistArea_ID_Area019  DistArea_ID_Area027  ...  \\\n",
       "0                    0                    0                    0  ...   \n",
       "1                    0                    0                    1  ...   \n",
       "2                    0                    0                    0  ...   \n",
       "3                    0                    0                    0  ...   \n",
       "4                    0                    1                    0  ...   \n",
       "\n",
       "   Medicine_Type_Tranquilizers  SidEffect_Level_mild  Area_Type_DownTown  \\\n",
       "0                            0                     0                   1   \n",
       "1                            0                     1                   0   \n",
       "2                            0                     1                   1   \n",
       "3                            0                     1                   1   \n",
       "4                            0                     0                   0   \n",
       "\n",
       "   Area_Type_Industrial  Area_Type_MidTownResidential  Area_City_Type_Tier 2  \\\n",
       "0                     0                             0                      0   \n",
       "1                     0                             0                      0   \n",
       "2                     0                             0                      0   \n",
       "3                     0                             0                      0   \n",
       "4                     0                             1                      0   \n",
       "\n",
       "   Area_City_Type_Tier 3  Area_dist_level_Medium  Area_dist_level_Small  \\\n",
       "0                      0                       0                      1   \n",
       "1                      1                       1                      0   \n",
       "2                      0                       0                      1   \n",
       "3                      0                       0                      1   \n",
       "4                      0                       0                      1   \n",
       "\n",
       "   Area_dist_level_Unknown  \n",
       "0                        0  \n",
       "1                        0  \n",
       "2                        0  \n",
       "3                        0  \n",
       "4                        0  \n",
       "\n",
       "[5 rows x 46 columns]"
      ]
     },
     "execution_count": 67,
     "metadata": {},
     "output_type": "execute_result"
    }
   ],
   "source": [
    "df_train.head()"
   ]
  },
  {
   "cell_type": "markdown",
   "metadata": {},
   "source": [
    "## Sales over the years "
   ]
  },
  {
   "cell_type": "code",
   "execution_count": 31,
   "metadata": {},
   "outputs": [
    {
     "data": {
      "text/plain": [
       "Text(0.5, 1, 'Counterfeit Sales over the years')"
      ]
     },
     "execution_count": 31,
     "metadata": {},
     "output_type": "execute_result"
    },
    {
     "data": {
      "image/png": "[encoded data removed]",
      "text/plain": [
       "<Figure size 360x360 with 1 Axes>"
      ]
     },
     "metadata": {
      "needs_background": "light"
     },
     "output_type": "display_data"
    }
   ],
   "source": [
    "sns.relplot(x='Active_Since', y='Counterfeit_Sales', data=df_train, kind='line', ci=None)\n",
    "plt.title('Counterfeit Sales over the years')"
   ]
  },
  {
   "cell_type": "markdown",
   "metadata": {},
   "source": [
    "Reading:\n",
    "\n",
    "1. The Sales from 1985 to 2005 are in the range of 2500\n",
    "2. It had dropped to less than 500 in 1996 but rose back again \n",
    "3. And dropped again below 2500 after 2005"
   ]
  },
  {
   "cell_type": "markdown",
   "metadata": {},
   "source": [
    "## Sales over the years in different cities"
   ]
  },
  {
   "cell_type": "code",
   "execution_count": 45,
   "metadata": {},
   "outputs": [
    {
     "data": {
      "text/plain": [
       "Text(0.5, 1.1, 'Sales in different tier types')"
      ]
     },
     "execution_count": 45,
     "metadata": {},
     "output_type": "execute_result"
    },
    {
     "data": {
      "image/png": "[encoded data removed]",
      "text/plain": [
       "<Figure size 1080x360 with 3 Axes>"
      ]
     },
     "metadata": {},
     "output_type": "display_data"
    }
   ],
   "source": [
    "sns.set_style('darkgrid')\n",
    "g=sns.relplot(x='Active_Since', y='Counterfeit_Sales', data=df_train, kind='line', ci=None, col='Area_City_Type')\n",
    "g.fig.suptitle('Sales in different tier types', y=1.1)"
   ]
  },
  {
   "cell_type": "markdown",
   "metadata": {},
   "source": [
    "Reading:\n",
    "\n",
    "1. Sales in Tier1 cities were on a rise from 1985 to 1995, in these years, sales in Tier 3 cities were dropping and sales were zero in tier 2 cities.\n",
    "2. After 1995, there were no sales in Tier1 cities and that in Tier3 cities were on a rise\n",
    "3. Only after 2000, Tier2 cities had any sales. "
   ]
  },
  {
   "cell_type": "markdown",
   "metadata": {},
   "source": [
    "## Sales based on side effect level"
   ]
  },
  {
   "cell_type": "code",
   "execution_count": 63,
   "metadata": {},
   "outputs": [
    {
     "data": {
      "text/plain": [
       "Text(0.5, 1, 'Sales based on Side effects of drugs')"
      ]
     },
     "execution_count": 63,
     "metadata": {},
     "output_type": "execute_result"
    },
    {
     "data": {
      "image/png": "[encoded data removed]",
      "text/plain": [
       "<Figure size 360x360 with 1 Axes>"
      ]
     },
     "metadata": {},
     "output_type": "display_data"
    }
   ],
   "source": [
    "sns.catplot(x='SidEffect_Level', y='Counterfeit_Sales', kind='box', data=df_train)\n",
    "plt.title('Sales based on Side effects of drugs')"
   ]
  },
  {
   "cell_type": "markdown",
   "metadata": {},
   "source": [
    "Reading:\n",
    "\n",
    "1. For both the categories, median is almost similar i.e. counterfiet drugs that have mild as well as critical side effects are sold in equal quantities.\n",
    "2. The max sales for mild side effect causing drug is >14000 and for critical side effects, it is >12000"
   ]
  },
  {
   "cell_type": "markdown",
   "metadata": {},
   "source": [
    "## Any correlation between price and Sales"
   ]
  },
  {
   "cell_type": "code",
   "execution_count": 78,
   "metadata": {},
   "outputs": [
    {
     "data": {
      "text/html": [
       "<div>\n",
       "<style scoped>\n",
       "    .dataframe tbody tr th:only-of-type {\n",
       "        vertical-align: middle;\n",
       "    }\n",
       "\n",
       "    .dataframe tbody tr th {\n",
       "        vertical-align: top;\n",
       "    }\n",
       "\n",
       "    .dataframe thead th {\n",
       "        text-align: right;\n",
       "    }\n",
       "</style>\n",
       "<table border=\"1\" class=\"dataframe\">\n",
       "  <thead>\n",
       "    <tr style=\"text-align: right;\">\n",
       "      <th></th>\n",
       "      <th>Counterfeit_Weight</th>\n",
       "      <th>Active_Since</th>\n",
       "      <th>Medicine_MRP</th>\n",
       "      <th>Availability_rating</th>\n",
       "      <th>Counterfeit_Sales</th>\n",
       "    </tr>\n",
       "  </thead>\n",
       "  <tbody>\n",
       "    <tr>\n",
       "      <th>Counterfeit_Weight</th>\n",
       "      <td>1.000000</td>\n",
       "      <td>-0.016590</td>\n",
       "      <td>0.028523</td>\n",
       "      <td>-0.017632</td>\n",
       "      <td>0.005959</td>\n",
       "    </tr>\n",
       "    <tr>\n",
       "      <th>Active_Since</th>\n",
       "      <td>-0.016590</td>\n",
       "      <td>1.000000</td>\n",
       "      <td>0.002996</td>\n",
       "      <td>-0.075744</td>\n",
       "      <td>-0.039595</td>\n",
       "    </tr>\n",
       "    <tr>\n",
       "      <th>Medicine_MRP</th>\n",
       "      <td>0.028523</td>\n",
       "      <td>0.002996</td>\n",
       "      <td>1.000000</td>\n",
       "      <td>-0.003216</td>\n",
       "      <td>0.573684</td>\n",
       "    </tr>\n",
       "    <tr>\n",
       "      <th>Availability_rating</th>\n",
       "      <td>-0.017632</td>\n",
       "      <td>-0.075744</td>\n",
       "      <td>-0.003216</td>\n",
       "      <td>1.000000</td>\n",
       "      <td>-0.124058</td>\n",
       "    </tr>\n",
       "    <tr>\n",
       "      <th>Counterfeit_Sales</th>\n",
       "      <td>0.005959</td>\n",
       "      <td>-0.039595</td>\n",
       "      <td>0.573684</td>\n",
       "      <td>-0.124058</td>\n",
       "      <td>1.000000</td>\n",
       "    </tr>\n",
       "  </tbody>\n",
       "</table>\n",
       "</div>"
      ],
      "text/plain": [
       "                     Counterfeit_Weight  Active_Since  Medicine_MRP  \\\n",
       "Counterfeit_Weight             1.000000     -0.016590      0.028523   \n",
       "Active_Since                  -0.016590      1.000000      0.002996   \n",
       "Medicine_MRP                   0.028523      0.002996      1.000000   \n",
       "Availability_rating           -0.017632     -0.075744     -0.003216   \n",
       "Counterfeit_Sales              0.005959     -0.039595      0.573684   \n",
       "\n",
       "                     Availability_rating  Counterfeit_Sales  \n",
       "Counterfeit_Weight             -0.017632           0.005959  \n",
       "Active_Since                   -0.075744          -0.039595  \n",
       "Medicine_MRP                   -0.003216           0.573684  \n",
       "Availability_rating             1.000000          -0.124058  \n",
       "Counterfeit_Sales              -0.124058           1.000000  "
      ]
     },
     "execution_count": 78,
     "metadata": {},
     "output_type": "execute_result"
    }
   ],
   "source": [
    "df_train.corr()"
   ]
  },
  {
   "cell_type": "code",
   "execution_count": 80,
   "metadata": {},
   "outputs": [
    {
     "data": {
      "text/plain": [
       "Text(0.5, 1.0, 'Sales vs Price')"
      ]
     },
     "execution_count": 80,
     "metadata": {},
     "output_type": "execute_result"
    },
    {
     "data": {
      "image/png": "[encoded data removed]",
      "text/plain": [
       "<Figure size 432x288 with 1 Axes>"
      ]
     },
     "metadata": {},
     "output_type": "display_data"
    }
   ],
   "source": [
    "df_train.plot.scatter(x='Medicine_MRP', y='Counterfeit_Sales')\n",
    "plt.title('Sales vs Price')"
   ]
  },
  {
   "cell_type": "markdown",
   "metadata": {},
   "source": [
    "Reading: \n",
    "\n",
    "1. Sales and price of the medicine are positively correlated. \n",
    "2. For costly medicines, there is a much higher volumne of counterfeit sales."
   ]
  },
  {
   "cell_type": "markdown",
   "metadata": {},
   "source": [
    "## Which type of med has the max sales"
   ]
  },
  {
   "cell_type": "code",
   "execution_count": 101,
   "metadata": {},
   "outputs": [
    {
     "data": {
      "text/plain": [
       "Text(0.5, 1, 'Sales vs Medicine Type')"
      ]
     },
     "execution_count": 101,
     "metadata": {},
     "output_type": "execute_result"
    },
    {
     "data": {
      "image/png": "[encoded data removed]",
      "text/plain": [
       "<Figure size 360x360 with 1 Axes>"
      ]
     },
     "metadata": {},
     "output_type": "display_data"
    }
   ],
   "source": [
    "sns.catplot(y='Medicine_Type', x='Counterfeit_Sales', data=df_train, kind='bar', ci=None)\n",
    "plt.title('Sales vs Medicine Type')"
   ]
  },
  {
   "cell_type": "markdown",
   "metadata": {},
   "source": [
    "Reading: \n",
    "\n",
    "1. Antiviral meds have the max counterfiet sales crossing 2500\n",
    "2. Rest all the meds have around 2000"
   ]
  },
  {
   "cell_type": "markdown",
   "metadata": {},
   "source": [
    "# Modelling "
   ]
  },
  {
   "cell_type": "markdown",
   "metadata": {},
   "source": [
    "### Linear Regression"
   ]
  },
  {
   "cell_type": "code",
   "execution_count": 68,
   "metadata": {},
   "outputs": [
    {
     "name": "stdout",
     "output_type": "stream",
     "text": [
      "0.4999697910594486\n"
     ]
    }
   ],
   "source": [
    "lm=LinearRegression()\n",
    "\n",
    "X=df_train.drop(['Medicine_ID', 'Counterfeit_Sales'],1)\n",
    "y=df_train['Counterfeit_Sales']\n",
    "\n",
    "X_train, X_test, y_train, y_test = train_test_split(X, y, test_size=0.2, random_state=2)\n",
    "\n",
    "lm.fit(X_train, y_train)\n",
    "\n",
    "pred=lm.predict(X_test)\n",
    "\n",
    "m=mae(y_test, pred)\n",
    "\n",
    "print(1-m/1660)\n"
   ]
  },
  {
   "cell_type": "markdown",
   "metadata": {},
   "source": [
    "### Linear Regression with Ridge "
   ]
  },
  {
   "cell_type": "code",
   "execution_count": 69,
   "metadata": {},
   "outputs": [
    {
     "name": "stdout",
     "output_type": "stream",
     "text": [
      "0.500026327579251\n"
     ]
    }
   ],
   "source": [
    "from sklearn.linear_model import Ridge\n",
    "\n",
    "clf=Ridge(alpha=1.0)\n",
    "\n",
    "clf.fit(X_train, y_train)\n",
    "\n",
    "pred = clf.predict(X_test)\n",
    "\n",
    "m=mae(y_test, pred)\n",
    "\n",
    "print(1-m/1660)"
   ]
  },
  {
   "cell_type": "markdown",
   "metadata": {},
   "source": [
    "## Linear Regression with Ridge and hyperparameter tuning "
   ]
  },
  {
   "cell_type": "code",
   "execution_count": 70,
   "metadata": {},
   "outputs": [],
   "source": [
    "from sklearn.linear_model import Ridge\n",
    "\n",
    "alphas = np.linspace(1,100,100)\n",
    "\n",
    "for i in alphas: \n",
    "    clf_ht=Ridge(alpha=i, fit_intercept=True)\n",
    "    clf_ht.fit(X_train, y_train)\n",
    "    pred_ht = clf_ht.predict(X_test)\n",
    "    m=mae(y_test, pred_ht)\n",
    "    #print(1-m/1660)"
   ]
  },
  {
   "cell_type": "code",
   "execution_count": 71,
   "metadata": {},
   "outputs": [],
   "source": [
    "from sklearn.linear_model import Lasso\n",
    "\n",
    "alphas = np.linspace(1,100,100)\n",
    "\n",
    "for i in alphas: \n",
    "    clf_t=Ridge(alpha=i, fit_intercept=True)\n",
    "    clf_t.fit(X_train, y_train)\n",
    "    pred_t = clf_t.predict(X_test)\n",
    "    m=mae(y_test, pred_t)\n",
    "    #print(1-m/1660)"
   ]
  },
  {
   "cell_type": "markdown",
   "metadata": {},
   "source": [
    "## Random Forest"
   ]
  },
  {
   "cell_type": "code",
   "execution_count": 72,
   "metadata": {},
   "outputs": [
    {
     "name": "stdout",
     "output_type": "stream",
     "text": [
      "0.5171283618079356\n"
     ]
    }
   ],
   "source": [
    "from sklearn.ensemble import RandomForestRegressor\n",
    "\n",
    "rf=RandomForestRegressor()\n",
    "\n",
    "rf.fit(X_train, y_train)\n",
    "\n",
    "pred_rf=rf.predict(X_test)\n",
    "\n",
    "m=mae(y_test, pred_rf)\n",
    "print(1-m/1660)"
   ]
  },
  {
   "cell_type": "markdown",
   "metadata": {},
   "source": [
    "## Random forest + Hyperparameter tuning "
   ]
  },
  {
   "cell_type": "code",
   "execution_count": 73,
   "metadata": {},
   "outputs": [
    {
     "name": "stdout",
     "output_type": "stream",
     "text": [
      "Fitting 5 folds for each of 1000 candidates, totalling 5000 fits\n"
     ]
    },
    {
     "name": "stderr",
     "output_type": "stream",
     "text": [
      "[Parallel(n_jobs=-1)]: Using backend LokyBackend with 4 concurrent workers.\n",
      "[Parallel(n_jobs=-1)]: Done  42 tasks      | elapsed:   14.5s\n",
      "[Parallel(n_jobs=-1)]: Done 192 tasks      | elapsed:   53.0s\n",
      "[Parallel(n_jobs=-1)]: Done 442 tasks      | elapsed:  2.1min\n",
      "[Parallel(n_jobs=-1)]: Done 792 tasks      | elapsed:  4.1min\n",
      "[Parallel(n_jobs=-1)]: Done 1242 tasks      | elapsed:  6.2min\n",
      "[Parallel(n_jobs=-1)]: Done 1792 tasks      | elapsed:  8.6min\n",
      "[Parallel(n_jobs=-1)]: Done 2442 tasks      | elapsed: 11.6min\n",
      "[Parallel(n_jobs=-1)]: Done 3192 tasks      | elapsed: 15.5min\n",
      "[Parallel(n_jobs=-1)]: Done 4042 tasks      | elapsed: 19.8min\n",
      "[Parallel(n_jobs=-1)]: Done 4992 tasks      | elapsed: 25.1min\n",
      "[Parallel(n_jobs=-1)]: Done 5000 out of 5000 | elapsed: 25.1min finished\n"
     ]
    },
    {
     "name": "stdout",
     "output_type": "stream",
     "text": [
      "0.6040485966755444\n",
      "{'n_estimators': 50, 'min_samples_split': 5, 'min_samples_leaf': 15, 'max_leaf_nodes': 45, 'max_depth': 5}\n"
     ]
    }
   ],
   "source": [
    "from sklearn.model_selection import RandomizedSearchCV\n",
    "\n",
    "param_dist = { 'n_estimators':[10,20,50,100],\n",
    "               'max_depth' : [3,5,10,50,None],\n",
    "               'min_samples_split':[2,5,10,15],\n",
    "               'min_samples_leaf':[1,5,10,15],\n",
    "                'max_leaf_nodes' :[5,7,10,16,20,30,45,50,70]                }\n",
    "\n",
    "rf_ht=RandomForestRegressor()\n",
    "\n",
    "grid=RandomizedSearchCV(estimator=rf_ht, param_distributions=param_dist, verbose=1,n_jobs=-1, n_iter=1000)\n",
    "\n",
    "grid_result=grid.fit(X_train, y_train)\n",
    "\n",
    "print(grid_result.best_score_)\n",
    "\n",
    "print(grid_result.best_params_)\n",
    "\n",
    "\n"
   ]
  },
  {
   "cell_type": "code",
   "execution_count": 103,
   "metadata": {},
   "outputs": [],
   "source": [
    "rf_best=RandomForestRegressor(n_estimators=50, min_samples_leaf=15, min_samples_split=5, max_leaf_nodes=45, max_depth=5)\n",
    "\n",
    "rf_best.fit(X_train, y_train)\n",
    "\n",
    "pred_rf_best = rf_best.predict(X_test)\n"
   ]
  },
  {
   "cell_type": "code",
   "execution_count": 104,
   "metadata": {},
   "outputs": [
    {
     "name": "stdout",
     "output_type": "stream",
     "text": [
      "0.5423990765204333\n"
     ]
    }
   ],
   "source": [
    "m=mae(y_test, pred_rf_best)\n",
    "print(1-m/1660)"
   ]
  },
  {
   "cell_type": "markdown",
   "metadata": {},
   "source": [
    "## Extra trees"
   ]
  },
  {
   "cell_type": "code",
   "execution_count": 85,
   "metadata": {},
   "outputs": [
    {
     "name": "stdout",
     "output_type": "stream",
     "text": [
      "0.4955503361516447\n"
     ]
    }
   ],
   "source": [
    "from sklearn.ensemble import ExtraTreesRegressor\n",
    "\n",
    "et=ExtraTreesRegressor()\n",
    "\n",
    "et.fit(X_train, y_train)\n",
    "\n",
    "pred_et=et.predict(X_test)\n",
    "\n",
    "m=mae(y_test, pred_et)\n",
    "print(1-m/1660)"
   ]
  },
  {
   "cell_type": "markdown",
   "metadata": {},
   "source": [
    "Read: https://www.thekerneltrip.com/statistics/random-forest-vs-extra-tree/#:~:text=The%20main%20difference%20between%20random,(for%20the%20extra%20trees).\n",
    "\n",
    "Decision trees, being prone to overfit, have been transformed to random forests by training many trees over various subsamples of the data (in terms of both observations and predictors used to train them).\n",
    "\n",
    "The main difference between random forests and extra trees (usually called extreme random forests) lies in the fact that, instead of computing the locally optimal feature/split combination (for the random forest), for each feature under consideration, a random value is selected for the split (for the extra trees)."
   ]
  },
  {
   "cell_type": "code",
   "execution_count": 86,
   "metadata": {},
   "outputs": [
    {
     "name": "stdout",
     "output_type": "stream",
     "text": [
      "Fitting 5 folds for each of 1000 candidates, totalling 5000 fits\n"
     ]
    },
    {
     "name": "stderr",
     "output_type": "stream",
     "text": [
      "[Parallel(n_jobs=-1)]: Using backend LokyBackend with 4 concurrent workers.\n",
      "[Parallel(n_jobs=-1)]: Done  42 tasks      | elapsed:   14.1s\n",
      "[Parallel(n_jobs=-1)]: Done 192 tasks      | elapsed:   45.2s\n",
      "[Parallel(n_jobs=-1)]: Done 442 tasks      | elapsed:  1.8min\n",
      "[Parallel(n_jobs=-1)]: Done 792 tasks      | elapsed:  3.5min\n",
      "[Parallel(n_jobs=-1)]: Done 1242 tasks      | elapsed:  5.3min\n",
      "[Parallel(n_jobs=-1)]: Done 1792 tasks      | elapsed:  7.9min\n",
      "[Parallel(n_jobs=-1)]: Done 2442 tasks      | elapsed: 10.8min\n",
      "[Parallel(n_jobs=-1)]: Done 3192 tasks      | elapsed: 14.3min\n",
      "[Parallel(n_jobs=-1)]: Done 4042 tasks      | elapsed: 17.4min\n",
      "[Parallel(n_jobs=-1)]: Done 4992 tasks      | elapsed: 21.3min\n",
      "[Parallel(n_jobs=-1)]: Done 5000 out of 5000 | elapsed: 21.4min finished\n"
     ]
    },
    {
     "name": "stdout",
     "output_type": "stream",
     "text": [
      "0.6079854470918808\n",
      "{'n_estimators': 50, 'min_samples_split': 15, 'min_samples_leaf': 1, 'max_leaf_nodes': 20, 'max_depth': 50}\n"
     ]
    }
   ],
   "source": [
    "param_dist = { 'n_estimators':[10,20,50,100],\n",
    "               'max_depth' : [3,5,10,50,None],\n",
    "               'min_samples_split':[2,5,10,15],\n",
    "               'min_samples_leaf':[1,5,10,15],\n",
    "                'max_leaf_nodes' :[5,7,10,16,20,30,45,50,70]                }\n",
    "\n",
    "et_ht=ExtraTreesRegressor()\n",
    "\n",
    "grid=RandomizedSearchCV(estimator=et_ht, param_distributions=param_dist, verbose=1,n_jobs=-1, n_iter=1000)\n",
    "\n",
    "grid_result=grid.fit(X_train, y_train)\n",
    "\n",
    "print(grid_result.best_score_)\n",
    "\n",
    "print(grid_result.best_params_)\n"
   ]
  },
  {
   "cell_type": "code",
   "execution_count": 87,
   "metadata": {},
   "outputs": [
    {
     "name": "stdout",
     "output_type": "stream",
     "text": [
      "0.5416066800720403\n"
     ]
    }
   ],
   "source": [
    "et_best=ExtraTreesRegressor(n_estimators=50, min_samples_leaf=1, min_samples_split=15, max_leaf_nodes=20, max_depth=50)\n",
    "\n",
    "et_best.fit(X_train, y_train)\n",
    "\n",
    "pred_et_best = et_best.predict(X_test)\n",
    "\n",
    "\n",
    "m=mae(y_test, pred_et_best)\n",
    "print(1-m/1660)"
   ]
  },
  {
   "cell_type": "markdown",
   "metadata": {},
   "source": [
    "Read: \n",
    "1. https://www.analyticsvidhya.com/blog/2018/06/comprehensive-guide-for-ensemble-models/  \n",
    "2. https://www.analyticsvidhya.com/blog/2018/09/an-end-to-end-guide-to-understand-the-math-behind-xgboost/"
   ]
  },
  {
   "cell_type": "markdown",
   "metadata": {},
   "source": [
    "## XGBoost"
   ]
  },
  {
   "cell_type": "code",
   "execution_count": 90,
   "metadata": {},
   "outputs": [],
   "source": [
    "import xgboost as xgb\n",
    "\n",
    "#pip install xgboost\n",
    "\n",
    "model = xgb.XGBRegressor()\n",
    "\n",
    "model.fit(X_train, y_train)\n",
    "\n",
    "pred_XGB = model.predict(X_test)"
   ]
  },
  {
   "cell_type": "code",
   "execution_count": 96,
   "metadata": {},
   "outputs": [
    {
     "name": "stdout",
     "output_type": "stream",
     "text": [
      "0.500893774847017\n"
     ]
    }
   ],
   "source": [
    "m=mae(y_test, pred_XGB)\n",
    "print(1-m/1660)"
   ]
  },
  {
   "cell_type": "markdown",
   "metadata": {},
   "source": [
    "## Adaboost"
   ]
  },
  {
   "cell_type": "code",
   "execution_count": 97,
   "metadata": {},
   "outputs": [],
   "source": [
    "from sklearn.ensemble import AdaBoostRegressor\n",
    "\n",
    "ada=AdaBoostRegressor()\n",
    "\n",
    "ada.fit(X_train, y_train)\n",
    "\n",
    "ada_pred=ada.predict(X_test)"
   ]
  },
  {
   "cell_type": "code",
   "execution_count": 101,
   "metadata": {},
   "outputs": [
    {
     "name": "stdout",
     "output_type": "stream",
     "text": [
      "0.45248497487450734\n"
     ]
    }
   ],
   "source": [
    "m=mae(y_test, ada_pred)\n",
    "print(1-m/1660)"
   ]
  },
  {
   "cell_type": "code",
   "execution_count": 107,
   "metadata": {},
   "outputs": [],
   "source": [
    "ada=AdaBoostRegressor(base_estimator=rf_best, n_estimators=10)\n",
    "\n",
    "ada.fit(X_train, y_train)\n",
    "\n",
    "ada_pred=ada.predict(X_test)"
   ]
  },
  {
   "cell_type": "code",
   "execution_count": 108,
   "metadata": {},
   "outputs": [
    {
     "name": "stdout",
     "output_type": "stream",
     "text": [
      "0.5355061681897362\n"
     ]
    }
   ],
   "source": [
    "m=mae(y_test, ada_pred)\n",
    "print(1-m/1660)"
   ]
  },
  {
   "cell_type": "code",
   "execution_count": null,
   "metadata": {},
   "outputs": [],
   "source": []
  }
 ],
 "metadata": {
  "kernelspec": {
   "display_name": "Python 3",
   "language": "python",
   "name": "python3"
  },
  "language_info": {
   "codemirror_mode": {
    "name": "ipython",
    "version": 3
   },
   "file_extension": ".py",
   "mimetype": "text/x-python",
   "name": "python",
   "nbconvert_exporter": "python",
   "pygments_lexer": "ipython3",
   "version": "3.7.7"
  }
 },
 "nbformat": 4,
 "nbformat_minor": 4
}
